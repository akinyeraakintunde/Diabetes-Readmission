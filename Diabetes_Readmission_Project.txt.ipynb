{
 "cells": [
  {
   "cell_type": "code",
   "execution_count": 2,
   "id": "b34e600e",
   "metadata": {},
   "outputs": [
    {
     "ename": "SyntaxError",
     "evalue": "invalid syntax (3639507120.py, line 1)",
     "output_type": "error",
     "traceback": [
      "\u001b[0;36m  File \u001b[0;32m\"/var/folders/vj/6vjhcm410598fqc2xd1yvrjh0000gn/T/ipykernel_99796/3639507120.py\"\u001b[0;36m, line \u001b[0;32m1\u001b[0m\n\u001b[0;31m    ---\u001b[0m\n\u001b[0m       ^\u001b[0m\n\u001b[0;31mSyntaxError\u001b[0m\u001b[0;31m:\u001b[0m invalid syntax\n"
     ]
    }
   ],
   "source": [
    "---\n",
    "title: Diabetes Readmission Project\n",
    "\n",
    "---\n",
    "\n",
    "# Diabetes Readmission Prediction Project\n",
    "\n",
    "This project predicts hospital readmissions for diabetic patients using **machine learning** on over **100,000 hospital records**.  \n",
    "It demonstrates skills in **data cleaning, feature engineering, model building, and visualization** — perfect for a professional portfolio.\n",
    "\n",
    "---\n",
    "\n",
    "## 🔹 Project Overview\n",
    "- **Dataset**: [Diabetes Healthcare Dataset (Kaggle)](https://www.kaggle.com/datasets/uciml/diabetes-healthcare-dataset)  \n",
    "- **Records**: 101,766 | **Features**: 50+  \n",
    "- **Goal**: Predict whether a patient will be readmitted (<30 days, >30 days, No)  \n",
    "- **Tools**: Python, Pandas, Scikit-learn, Matplotlib, Seaborn  \n",
    "- **Models Used**: Random Forest, XGBoost, Logistic Regression  \n",
    "\n",
    "---\n",
    "\n",
    "## 📊 Key Insights\n",
    "- **Top predictors**: Age, inpatient visits, medications  \n",
    "- **Model performance**: Random Forest achieved highest accuracy among baseline models\n",
    "\n",
    "---\n",
    "\n",
    "## 📈 Visualizations\n",
    "### Feature Importance\n",
    "![Feature Importance](images/feature_importance.png)\n",
    "\n",
    "### Confusion Matrix\n",
    "![Confusion Matrix](images/confusion_matrix.png)\n",
    "\n",
    "### ROC Curve\n",
    "![ROC Curve](images/roc_curve.png)\n",
    "\n",
    "---\n",
    "\n",
    "## 📂 Project Resources\n",
    "- 📖 [GitHub Repository](https://github.com/akinyeraakintunde/Diabetes-Readmission)  \n",
    "- 📑 [Full Technical Report (PDF)](model_report.pdf)  \n",
    "- 🌐 [Live Portfolio Page](https://akinyeraakintunde.github.io/Diabetes-Readmission/)  \n",
    "\n",
    "---\n",
    "\n",
    "## 🔹 How to Run\n",
    "1. Clone the repository:  \n",
    "```bash\n",
    "git clone https://github.com/akinyeraakintunde/Diabetes-Readmission.git\n"
   ]
  },
  {
   "cell_type": "code",
   "execution_count": null,
   "id": "4a24e532",
   "metadata": {},
   "outputs": [],
   "source": []
  },
  {
   "cell_type": "code",
   "execution_count": null,
   "id": "96f6bce0",
   "metadata": {},
   "outputs": [],
   "source": []
  }
 ],
 "metadata": {
  "kernelspec": {
   "display_name": "Python 3 (ipykernel)",
   "language": "python",
   "name": "python3"
  },
  "language_info": {
   "codemirror_mode": {
    "name": "ipython",
    "version": 3
   },
   "file_extension": ".py",
   "mimetype": "text/x-python",
   "name": "python",
   "nbconvert_exporter": "python",
   "pygments_lexer": "ipython3",
   "version": "3.9.7"
  }
 },
 "nbformat": 4,
 "nbformat_minor": 5
}
